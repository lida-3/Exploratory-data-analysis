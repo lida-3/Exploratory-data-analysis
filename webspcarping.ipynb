{
  "cells": [
    {
      "cell_type": "code",
      "execution_count": null,
      "metadata": {
        "id": "y5Qk6F4nQ2qV"
      },
      "outputs": [],
      "source": [
        "import re\n",
        "import numpy as np\n",
        "import pandas as pd\n",
        "import requests\n",
        "import bs4\n",
        "import lxml.etree as xml\n",
        "import pandas as pd\n",
        "import matplotlib\n",
        "\n",
        "from google.colab import files"
      ]
    },
    {
      "cell_type": "markdown",
      "source": [
        "#Web Scraping\n",
        "\n",
        "Collecting text from web articles using BeautifulSoup tools\n"
      ],
      "metadata": {
        "id": "uJdYI6Jq9nWj"
      }
    },
    {
      "cell_type": "code",
      "execution_count": null,
      "metadata": {
        "id": "Jt7I1iltoLru"
      },
      "outputs": [],
      "source": [
        "pp_links=[]\n",
        "#2021 - 2018 specific format\n",
        "for i in range(2021,2017,-1):\n",
        "  pp_links.append('https://www.morh.hr/kategorija/protupozarne-aktivnosti-'+str(i)+'/page/')\n",
        "\n",
        "data_all=[]\n",
        "base='https://www.morh.hr'\n",
        "for url_base in pp_links:\n",
        "\n",
        "  for page in range(13):#max 13 pages of reports per year\n",
        "    WP=url_base+str(page)+'/'\n",
        "    web_page = bs4.BeautifulSoup(requests.get(WP, headers={   \"UserAgent\": \"Mozilla/5.0 (X11; Linux x86_64) AppleWebKit/537.36 (KHTML, like Gecko) Chrome/65.0.3325.183 Safari/537.36\"}).text, \"lxml\")\n",
        "    primary=web_page.find(id='primary')\n",
        "    for newsi in primary.find_all('li'):\n",
        "      try:\n",
        "        meta1=newsi.select('.entry-preview__meta')\n",
        "        date=newsi.select('.date')[0].text.strip()\n",
        "        tt=newsi.select('.entry-preview__summary')[0].text.strip()\n",
        "        title=newsi.select('.entry-preview__title')[0]\n",
        "        link=title.find('a')\n",
        "        post1={'datestr':date, 'title':link.text.strip(),'href':link['href'],'summary':tt }\n",
        "        data_all.append(post1)\n",
        "      except Exception as e:\n",
        "        print(e)\n",
        "\n"
      ]
    },
    {
      "cell_type": "code",
      "execution_count": null,
      "metadata": {
        "id": "AEYCkX_OQ_jy"
      },
      "outputs": [],
      "source": [
        "df=pd.DataFrame(data=data_all)\n",
        "bodies=[]\n",
        "for ull_a in df['href']:\n",
        "  txt=\"\"\n",
        "  article_page = bs4.BeautifulSoup(requests.get(ull_a, headers={\"UserAgent\": \"Mozilla/5.0 (X11; Linux x86_64) AppleWebKit/537.36 (KHTML, like Gecko) Chrome/65.0.3325.183 Safari/537.36\"}).text, \"lxml\")\n",
        "  for b in article_page.select('.entry__content'):\n",
        "    txt=txt + b.text.strip()\n",
        "  bodies.append(txt)\n",
        "df['bodies']=bodies"
      ]
    },
    {
      "cell_type": "markdown",
      "source": [
        "## Regex template for gathering information\n",
        "Collection of data on: number of fires, number of flights, hours of flights, tons of water, tons of cargo, liters of foam, liters of fuel"
      ],
      "metadata": {
        "id": "kJUGkihz-A3r"
      }
    },
    {
      "cell_type": "code",
      "execution_count": null,
      "metadata": {
        "id": "4aPVj1IAceTD"
      },
      "outputs": [],
      "source": [
        "templates =  {\"number_of_fires\": \".* u gašenju (?P<number_of_fires>([0-9]+)) požar.* .*\",\n",
        "             \"number_of_flights\": \".* (?P<number_of_flights>(([0-9]+\\.[0-9]+)|[0-9]+)) let.*\",\n",
        "             \"hours_of_flights\": \".* (?P<hours_of_flights>(([0-9]+)|([0-9]+\\.[0-9]+)|[0-9]+:[0-9]+:[0-9]+)|([0-9]+:[0-9]+)) sat.* nalet.* .*\",\n",
        "             \"tons_of_water\":\".* (?P<tons_of_water>(([0-9]+\\.[0-9]+)|[0-9]+)) ton. vod.*(\\.*|(,* .*))\",\n",
        "             \"tons_of_cargo\": \".* (?P<tons_of_cargo>(([0-9]+\\.[0-9]+)|[0-9]+)|([0-9]+,[0-9]+)) ton. teret.*(\\.*|(,* .*))\",\n",
        "             \"liters_of_foam\": \".* (?P<liters_of_foam>(([0-9]+\\.[0-9]+)|[0-9]+)|([0-9]+,[0-9]+)) lit.* pjenil.*(\\.*|(,* .*))\",\n",
        "             \"liters_of_fuel\": \".* (?P<liters_of_fuel>(([0-9]+\\.[0-9]+)|[0-9]+)|([0-9]+,[0-9]+)) lit.* goriv.*(\\.*|(,* .*))\"}\n"
      ]
    },
    {
      "cell_type": "markdown",
      "source": [
        "Planes_temp is another regex template used to find information about the type of aircrafts used for firefighting"
      ],
      "metadata": {
        "id": "-BMXLYy--qIr"
      }
    },
    {
      "cell_type": "code",
      "source": [
        "planes_temp = {\"number_of_airtractors\": \"((.*\\s)|(^))(?P<number_of_airtractors>(jedan|jednim|dva|tri|četiri|pet)) ((protupožar.* avion.*\\s)|(avion.*\\s))*((Airtractor.*)|(Air tractor.*)) .*\",\n",
        "             \"number_of_canadairs\":\"((.*\\s)|(^))(?P<number_of_canadairs>(jedan|jednim|dva|tri|četiri|pet)) ((protupožar.* avion.*\\s)|(avion.*\\s))*Canadair.* .*\",\n",
        "             \"number_of_helicopters\": \"((.*\\s)|(^))(?P<number_of_helicopters>(jedan|jednim|dva|tri|četiri|pet)) helikop.* Mi.* .*\",\n",
        "             \"helicopters\": \".* helikop.* (?P<helicopters>((Mi-8 MTV-1)|(Mi-8 MTV)|(Mi8 MTV)|(Mi8 MTV1)|(Mi-8 MTV1)|(Mi8 MTV-1)|(Mi-8)|(Mi8)))\\.*,* .*\"\n",
        "}"
      ],
      "metadata": {
        "id": "k9B2nmUiS_v7"
      },
      "execution_count": null,
      "outputs": []
    },
    {
      "cell_type": "markdown",
      "source": [
        "The found data is stored in dictioneries data_dict and aircrafts"
      ],
      "metadata": {
        "id": "dypPQ9K8_MdT"
      }
    },
    {
      "cell_type": "code",
      "source": [
        "data_dict =  {\"date\": [],\n",
        "             \"number_of_fires\": [],\n",
        "             \"number_of_flights\": [],\n",
        "             \"hours_of_flights\": [],\n",
        "             \"tons_of_water\": [],\n",
        "             \"tons_of_cargo\": [],\n",
        "             \"liters_of_foam\": [],\n",
        "             \"liters_of_fuel\": []\n",
        "}\n",
        "aircrafts = { \"date\": [],\n",
        "             \"text\": [],\n",
        "             \"number_of_airtractors\": [],\n",
        "             \"number_of_canadairs\": [],\n",
        "             \"number_of_helicopters\": [] }"
      ],
      "metadata": {
        "id": "hFG7FH9_698F"
      },
      "execution_count": null,
      "outputs": []
    },
    {
      "cell_type": "markdown",
      "source": [
        "## Function count_aircrafts\n",
        "Searching for data on aircrafts and counting the number of the same type of planes used in specific fire"
      ],
      "metadata": {
        "id": "fuJIFl2TAS7b"
      }
    },
    {
      "cell_type": "code",
      "source": [
        "def count_aircrafts(input_text, i):\n",
        "  split_text = [s.strip() for s in re.split('[,.]', input_text)]\n",
        "  split_text = list(filter(None, split_text))\n",
        "\n",
        "  aircrafts['number_of_airtractors'].append(0)\n",
        "  aircrafts['number_of_canadairs'].append(0)\n",
        "  aircrafts['number_of_helicopters'].append(0)\n",
        "  for string in split_text:\n",
        "\n",
        "    for template_key, template in planes_temp.items():\n",
        "      regex_temp = re.sub(r'\\{\\s*\\d+\\s*\\}','.+',template) + '$'\n",
        "      z = re.match(regex_temp, string, flags=re.I)\n",
        "\n",
        "      if z:\n",
        "          if template_key == \"number_of_airtractors\":\n",
        "            if(re.match(r'(jedan)|(jednim)', z.groupdict()['number_of_airtractors'], flags=re.I)):\n",
        "              aircrafts[\"number_of_airtractors\"][i] += 1\n",
        "            elif (re.match(r'dva', z.groupdict()['number_of_airtractors'], flags=re.I)):\n",
        "              aircrafts[\"number_of_airtractors\"][i] += 2\n",
        "            elif (re.match(r'tri', z.groupdict()['number_of_airtractors'], flags=re.I)):\n",
        "              aircrafts[\"number_of_airtractors\"][i] += 3\n",
        "            elif (re.match(r'četiri', z.groupdict()['number_of_airtractors'], flags=re.I)):\n",
        "              aircrafts[\"number_of_airtractors\"][i] += 4\n",
        "\n",
        "          elif template_key == \"number_of_canadairs\":\n",
        "            if (re.match(r'(jedan)|(jednim)', z.groupdict()['number_of_canadairs'], flags=re.I)):\n",
        "                aircrafts[\"number_of_canadairs\"][i] += 1\n",
        "            elif (re.match(r'dva', z.groupdict()['number_of_canadairs'], flags=re.I)):\n",
        "              aircrafts[\"number_of_canadairs\"][i] += 2\n",
        "            elif (re.match(r'tri', z.groupdict()['number_of_canadairs'], flags=re.I)):\n",
        "              aircrafts[\"number_of_canadairs\"][i] += 3\n",
        "            elif (re.match(r'četiri', z.groupdict()['number_of_canadairs'], flags=re.I)):\n",
        "              aircrafts[\"number_of_canadairs\"][i] += 4\n",
        "            elif (re.match(r'pet', z.groupdict()['number_of_canadairs'], flags=re.I)):\n",
        "              aircrafts[\"number_of_canadairs\"][i] += 5\n",
        "\n",
        "          elif template_key == \"number_of_helicopters\":\n",
        "            if(re.match(r'(jedan)|(jednim)', z.groupdict()['number_of_helicopters'], flags=re.I)):\n",
        "              aircrafts[\"number_of_helicopters\"][i] += 1\n",
        "            elif (re.match(r'Dva', z.groupdict()['number_of_helicopters'], flags=re.I)):\n",
        "              aircrafts[\"number_of_helicopters\"][i] += 2\n",
        "            elif (re.match(r'tri', z.groupdict()['number_of_helicopters'], flags=re.I)):\n",
        "              aircrafts[\"number_of_helicopters\"][i] += 3\n",
        "            elif (re.match(r'četiri', z.groupdict()['number_of_helicopters'], flags=re.I)):\n",
        "              aircrafts[\"number_of_helicopters\"][i] += 4\n",
        "            elif template_key == \"number_of_helicopters\":\n",
        "              aircrafts[\"number_of_helicopters\"][i] += 5\n",
        "\n",
        "      else:\n",
        "          if template_key == \"number_of_airtractors\":\n",
        "            aircrafts[\"number_of_airtractors\"][i] += 0\n",
        "          elif template_key == \"number_of_canadairs\":\n",
        "            aircrafts[\"number_of_canadairs\"][i] += 0\n",
        "          elif template_key == \"number_of_helicopters\":\n",
        "            aircrafts[\"number_of_helicopters\"][i] += 0\n",
        "\n",
        "\n"
      ],
      "metadata": {
        "id": "Msu53tWzUrNz"
      },
      "execution_count": null,
      "outputs": []
    },
    {
      "cell_type": "code",
      "source": [
        "i = 0\n",
        "for bodie in df.bodies:\n",
        "    aircrafts[\"date\"] = df['datestr']\n",
        "    aircrafts[\"text\"] = df['bodies']\n",
        "    count_aircrafts(bodie, i)\n",
        "    i += 1\n",
        "\n",
        "df2 = pd.DataFrame(aircrafts)"
      ],
      "metadata": {
        "id": "X_O5jcauVA5s"
      },
      "execution_count": null,
      "outputs": []
    },
    {
      "cell_type": "markdown",
      "source": [
        "## Function find_template\n",
        "Searching for data defined in template"
      ],
      "metadata": {
        "id": "3WyD9PjdDDH7"
      }
    },
    {
      "cell_type": "code",
      "source": [
        "# info about latest fire\n",
        "def find_template(input_text, i):\n",
        "  for template_key, template in templates.items():\n",
        "    regex_temp = re.sub(r'\\{\\s*\\d+\\s*\\}','.+',template) + '$'\n",
        "    z = re.match(regex_temp, input_text, flags=re.I | re.MULTILINE | re.DOTALL)\n",
        "    regex_temp = re.sub(r'\\{\\s*\\d+\\s*\\}','.+',template) + '$'\n",
        "\n",
        "\n",
        "    if z:\n",
        "      if template_key == \"number_of_fires\":\n",
        "        data_dict[\"number_of_fires\"].append(z.groupdict()['number_of_fires'])\n",
        "      elif template_key == \"number_of_flights\":\n",
        "        data_dict[\"number_of_flights\"].append(z.groupdict()['number_of_flights'])\n",
        "      elif template_key == \"hours_of_flights\":\n",
        "        data_dict[\"hours_of_flights\"].append(z.groupdict()['hours_of_flights'])\n",
        "      elif template_key == \"tons_of_water\":\n",
        "        data_dict[\"tons_of_water\"].append(z.groupdict()['tons_of_water'])\n",
        "      elif template_key == \"tons_of_cargo\":\n",
        "        data_dict[\"tons_of_cargo\"].append(z.groupdict()['tons_of_cargo'])\n",
        "      elif template_key == \"liters_of_foam\":\n",
        "        data_dict[\"liters_of_foam\"].append(z.groupdict()['liters_of_foam'])\n",
        "      elif template_key == \"liters_of_fuel\":\n",
        "        data_dict[\"liters_of_fuel\"].append(z.groupdict()['liters_of_fuel'])\n",
        "\n",
        "    else:\n",
        "      if template_key == \"number_of_fires\":\n",
        "        data_dict[\"number_of_fires\"].append(\"\")\n",
        "      elif template_key == \"number_of_flights\":\n",
        "        data_dict[\"number_of_flights\"].append(\"\")\n",
        "      elif template_key == \"hours_of_flights\":\n",
        "        data_dict[\"hours_of_flights\"].append(\"\")\n",
        "      elif template_key == \"tons_of_water\":\n",
        "        data_dict[\"tons_of_water\"].append(\"\")\n",
        "      elif template_key == \"tons_of_cargo\":\n",
        "        data_dict[\"tons_of_cargo\"].append(\"\")\n",
        "      elif template_key == \"liters_of_foam\":\n",
        "        data_dict[\"liters_of_foam\"].append(\"\")\n",
        "      elif template_key == \"liters_of_fuel\":\n",
        "        data_dict[\"liters_of_fuel\"].append(\"\")\n",
        "\n"
      ],
      "metadata": {
        "id": "hBxEj0K-AFq-"
      },
      "execution_count": null,
      "outputs": []
    },
    {
      "cell_type": "code",
      "source": [
        "i = 0\n",
        "j = 0\n",
        "for j in range(len(df.bodies)):\n",
        "    data_dict[\"date\"] = df['datestr']\n",
        "    find_template(df['bodies'][j], i)\n",
        "    i += 1\n",
        "    j += 1\n",
        "\n",
        "print(data_dict)\n",
        "df_data = pd.DataFrame(data_dict)\n"
      ],
      "metadata": {
        "id": "Hdvgcyugyepf"
      },
      "execution_count": null,
      "outputs": []
    },
    {
      "cell_type": "markdown",
      "source": [
        "Combine two data frames into one and export to an excel table"
      ],
      "metadata": {
        "id": "kMLp2YhcEB2M"
      }
    },
    {
      "cell_type": "code",
      "source": [
        "df_data.drop('date', inplace=True, axis = 1)\n",
        "complete = pd.concat([df2, df_data], axis=\"columns\")\n"
      ],
      "metadata": {
        "id": "c7FYmE0V8VzK"
      },
      "execution_count": null,
      "outputs": []
    },
    {
      "cell_type": "code",
      "source": [
        "complete.to_excel(\"final2021-18.xlsx\")\n",
        "files.download('final2021-18.xlsx')"
      ],
      "metadata": {
        "id": "yqnpSv2Hkl7v",
        "colab": {
          "base_uri": "https://localhost:8080/",
          "height": 17
        },
        "outputId": "930e5e1b-ec15-4000-e9ac-2ce7dc1a4c93"
      },
      "execution_count": null,
      "outputs": [
        {
          "output_type": "display_data",
          "data": {
            "text/plain": [
              "<IPython.core.display.Javascript object>"
            ],
            "application/javascript": [
              "\n",
              "    async function download(id, filename, size) {\n",
              "      if (!google.colab.kernel.accessAllowed) {\n",
              "        return;\n",
              "      }\n",
              "      const div = document.createElement('div');\n",
              "      const label = document.createElement('label');\n",
              "      label.textContent = `Downloading \"${filename}\": `;\n",
              "      div.appendChild(label);\n",
              "      const progress = document.createElement('progress');\n",
              "      progress.max = size;\n",
              "      div.appendChild(progress);\n",
              "      document.body.appendChild(div);\n",
              "\n",
              "      const buffers = [];\n",
              "      let downloaded = 0;\n",
              "\n",
              "      const channel = await google.colab.kernel.comms.open(id);\n",
              "      // Send a message to notify the kernel that we're ready.\n",
              "      channel.send({})\n",
              "\n",
              "      for await (const message of channel.messages) {\n",
              "        // Send a message to notify the kernel that we're ready.\n",
              "        channel.send({})\n",
              "        if (message.buffers) {\n",
              "          for (const buffer of message.buffers) {\n",
              "            buffers.push(buffer);\n",
              "            downloaded += buffer.byteLength;\n",
              "            progress.value = downloaded;\n",
              "          }\n",
              "        }\n",
              "      }\n",
              "      const blob = new Blob(buffers, {type: 'application/binary'});\n",
              "      const a = document.createElement('a');\n",
              "      a.href = window.URL.createObjectURL(blob);\n",
              "      a.download = filename;\n",
              "      div.appendChild(a);\n",
              "      a.click();\n",
              "      div.remove();\n",
              "    }\n",
              "  "
            ]
          },
          "metadata": {}
        },
        {
          "output_type": "display_data",
          "data": {
            "text/plain": [
              "<IPython.core.display.Javascript object>"
            ],
            "application/javascript": [
              "download(\"download_2e06e859-d42e-4f1e-a750-e57fac04af1f\", \"final2021-18.xlsx\", 80992)"
            ]
          },
          "metadata": {}
        }
      ]
    }
  ],
  "metadata": {
    "colab": {
      "provenance": [],
      "authorship_tag": "ABX9TyMWzqnyHcTsQgCfXrTVADxx"
    },
    "kernelspec": {
      "display_name": "Python 3",
      "name": "python3"
    },
    "language_info": {
      "name": "python"
    }
  },
  "nbformat": 4,
  "nbformat_minor": 0
}